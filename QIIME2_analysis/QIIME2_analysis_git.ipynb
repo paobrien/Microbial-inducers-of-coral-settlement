{
 "cells": [
  {
   "cell_type": "markdown",
   "metadata": {},
   "source": [
    "# QIIME2 analysis"
   ]
  },
  {
   "cell_type": "markdown",
   "metadata": {},
   "source": [
    "## Import data into QIIME2"
   ]
  },
  {
   "cell_type": "code",
   "execution_count": 65,
   "metadata": {},
   "outputs": [],
   "source": [
    "## importing manually to slightly edit sample_ids due to repeats"
   ]
  },
  {
   "cell_type": "code",
   "execution_count": null,
   "metadata": {},
   "outputs": [],
   "source": [
    "#!/bin/bash\n",
    "\n",
    "# load\n",
    "module load miniconda3\n",
    "conda activate qiime2-2022.8\n",
    "\n",
    "#Script to generate manifest file from gzipped raw fastq files \n",
    "\n",
    "DATA_DIR=\"/srv/projects/microbial_inducers/data/all_reads_16S\"\n",
    "OUT_DIR=\"/srv/projects/microbial_inducers/analysis/qiime2_16S/01_import\"\n",
    "\n",
    "echo \"Creating manifest file\"\n",
    "\n",
    "echo -e \"sample-id,absolute-filepath,direction\" > $OUT_DIR/manifest.txt #initiates manifest file and prints header\n",
    "\n",
    "for i in $DATA_DIR/*R1_001.fastq.gz; do\n",
    "    echo $i\n",
    "    name=$(basename $i | cut -d '_' -f 1,3)\n",
    "    echo $name\n",
    "    echo \"${name},${i},forward\" >>  $OUT_DIR/manifest.txt #prints info and adds it to manifest\n",
    "    echo \"${name},${i/_R1/_R2},reverse\" >>  $OUT_DIR/manifest.txt #prints print again but substitutes R1 for R2\n",
    "done\n",
    "\n",
    "echo \"Done\"\n",
    "echo \"Importing data into QIIME2\"\n",
    "\n",
    "qiime tools import \\\n",
    "--type 'SampleData[PairedEndSequencesWithQuality]' \\\n",
    "--input-path $OUT_DIR/manifest.txt \\\n",
    "--output-path $OUT_DIR/paired-end-demux.qza \\\n",
    "--input-format PairedEndFastqManifestPhred33\n",
    "\n",
    "echo \"Done\"\n",
    "\n",
    "conda deactivate"
   ]
  },
  {
   "cell_type": "markdown",
   "metadata": {},
   "source": [
    "## Process 16S data using DADA2 pipeline"
   ]
  },
  {
   "cell_type": "markdown",
   "metadata": {},
   "source": [
    "### Summarise sequence data"
   ]
  },
  {
   "cell_type": "code",
   "execution_count": null,
   "metadata": {},
   "outputs": [],
   "source": [
    "#!/bin/bash\n",
    "\n",
    "# load\n",
    "module load miniconda3\n",
    "conda activate qiime2-2022.8\n",
    "\n",
    "QIIME_DIR=\"/srv/projects/microbial_inducers/analysis/qiime2_16S/\"\n",
    "\n",
    "# summarise to get sequuence quality\n",
    "qiime demux summarize \\\n",
    "  --i-data $QIIME_DIR/01_import/paired-end-demux.qza \\\n",
    "  --o-visualization $QIIME_DIR/02_get_ASVs/demux.qzv\n",
    "conda deactivate"
   ]
  },
  {
   "cell_type": "markdown",
   "metadata": {},
   "source": [
    "### Remove primer sequences"
   ]
  },
  {
   "cell_type": "code",
   "execution_count": null,
   "metadata": {},
   "outputs": [],
   "source": [
    "#!/bin/bash\n",
    "\n",
    "# adapters and barcodes already removed\n",
    "# removing only primer sequences\n",
    "# load\n",
    "module load miniconda3\n",
    "conda activate qiime2-2022.8\n",
    "\n",
    "QIIME_DIR=\"/srv/projects/microbial_inducers/analysis/qiime2_16S/\"\n",
    "\n",
    "# trim primer seqs\n",
    "qiime cutadapt trim-paired \\\n",
    " --i-demultiplexed-sequences $QIIME_DIR/01_import/paired-end-demux.qza \\\n",
    " --p-cores 16 \\\n",
    " --p-front-f GTGYCAGCMGCCGCGGTAA \\\n",
    " --p-front-r GGACTACNVGGGTWTCTAAT \\\n",
    " --o-trimmed-sequences $QIIME_DIR/02_get_ASVs/paired-end-demux-trimmed.qza\n",
    " \n",
    "# summarise to check if reads have been trimmed\n",
    "qiime demux summarize \\\n",
    "  --i-data $QIIME_DIR/02_get_ASVs/paired-end-demux-trimmed.qza \\\n",
    "  --o-visualization $QIIME_DIR/02_get_ASVs/demux-trimmed.qzv\n",
    "  \n",
    "# add check read files\n",
    "qiime tools export \\\n",
    "  --input-path $QIIME_DIR/02_get_ASVs/paired-end-demux-trimmed.qza \\\n",
    "  --output-path $QIIME_DIR/02_get_ASVs/paired-end-demux-trimmed\n",
    "conda deactivate\n"
   ]
  },
  {
   "cell_type": "markdown",
   "metadata": {},
   "source": [
    "### Run DADA2 to get ASVs"
   ]
  },
  {
   "cell_type": "code",
   "execution_count": null,
   "metadata": {},
   "outputs": [],
   "source": [
    "#!/bin/bash\n",
    "\n",
    "# load\n",
    "module load miniconda3\n",
    "conda activate qiime2-2022.8\n",
    "\n",
    "# running on mrca\n",
    "\n",
    "QIIME_DIR=\"/srv/projects/microbial_inducers/analysis/qiime2_16S/02_get_ASVs\"\n",
    "\n",
    "# pick ASVs\n",
    "qiime dada2 denoise-paired \\\n",
    "  --i-demultiplexed-seqs $QIIME_DIR/paired-end-demux-trimmed.qza \\\n",
    "  --p-trunc-len-f 235 \\\n",
    "  --p-trunc-len-r 203 \\\n",
    "  --p-trim-left-f 0 \\\n",
    "  --p-trim-left-r 0 \\\n",
    "  --p-n-threads 16 \\\n",
    "  --o-table $QIIME_DIR/table-dada2-3.qza \\\n",
    "  --o-representative-sequences $QIIME_DIR/rep-seqs-dada2-3.qza \\\n",
    "  --o-denoising-stats $QIIME_DIR/stats-dada2-3.qza\n",
    "\n",
    "# summarise\n",
    "qiime metadata tabulate \\\n",
    "  --m-input-file $QIIME_DIR/stats-dada2-3.qza \\\n",
    "  --o-visualization $QIIME_DIR/stats-dada2-3.qzv\n",
    "conda deactivate\n"
   ]
  },
  {
   "cell_type": "raw",
   "metadata": {},
   "source": [
    "#mean\n",
    "percentage of input passed filter =\t89.41886076\n",
    "percentage of input merged =\t80.58850211\n",
    "percentage of input non-chimeric =\t80.16204641\n"
   ]
  },
  {
   "cell_type": "markdown",
   "metadata": {},
   "source": [
    "### Summarise feature table "
   ]
  },
  {
   "cell_type": "code",
   "execution_count": null,
   "metadata": {},
   "outputs": [],
   "source": [
    "#!/bin/bash\n",
    "\n",
    "# load\n",
    "module load miniconda3\n",
    "conda activate qiime2-2022.8\n",
    "\n",
    "# running on mrca\n",
    "\n",
    "QIIME_DIR=\"/srv/projects/microbial_inducers/analysis/qiime2_16S/02_get_ASVs\"\n",
    "\n",
    "qiime feature-table summarize \\\n",
    "  --i-table $QIIME_DIR/table-dada2.qza \\\n",
    "  --o-visualization $QIIME_DIR/table-dada2.qzv \\\n",
    "  --m-sample-metadata-file $QIIME_DIR/metadata.tsv\n",
    "qiime feature-table tabulate-seqs \\\n",
    "  --i-data $QIIME_DIR/rep-seqs-dada2.qza \\\n",
    "  --o-visualization $QIIME_DIR/rep-seqs-dada2.qzv"
   ]
  },
  {
   "cell_type": "markdown",
   "metadata": {},
   "source": [
    "# Get phylogeny"
   ]
  },
  {
   "cell_type": "markdown",
   "metadata": {},
   "source": [
    "### Generate a tree for phylogenetic diversity analyses"
   ]
  },
  {
   "cell_type": "code",
   "execution_count": null,
   "metadata": {},
   "outputs": [],
   "source": [
    "#!/bin/bash\n",
    "\n",
    "# load\n",
    "module load miniconda3\n",
    "conda activate qiime2-2022.8\n",
    "\n",
    "# running on mrca\n",
    "\n",
    "QIIME_DIR=\"/srv/projects/microbial_inducers/analysis/qiime2_16S\"\n",
    "\n",
    "# get phylogeny\n",
    "qiime phylogeny align-to-tree-mafft-fasttree \\\n",
    "  --i-sequences $QIIME_DIR/02_get_ASVs/rep-seqs-dada2.qza \\\n",
    "  --o-alignment $QIIME_DIR/03_phylogeny_and_diversity/aligned-rep-seqs.qza \\\n",
    "  --o-masked-alignment $QIIME_DIR/03_phylogeny_and_diversity/masked-aligned-rep-seqs.qza \\\n",
    "  --o-tree $QIIME_DIR/03_phylogeny_and_diversity/unrooted-tree.qza \\\n",
    "  --o-rooted-tree $QIIME_DIR/03_phylogeny_and_diversity/rooted-tree.qza"
   ]
  },
  {
   "cell_type": "markdown",
   "metadata": {},
   "source": [
    "# Taxonomic analysis"
   ]
  },
  {
   "cell_type": "markdown",
   "metadata": {},
   "source": [
    "### Assign taxonomy to 16S reads using the q2-feature-classifier"
   ]
  },
  {
   "cell_type": "code",
   "execution_count": null,
   "metadata": {},
   "outputs": [],
   "source": [
    "# reference database downloaded from https://docs.qiime2.org/2022.8/data-resources/\n",
    "# include full length trained 16S Silva 138 SSU db"
   ]
  },
  {
   "cell_type": "markdown",
   "metadata": {},
   "source": [
    "### Train and classify reads silva 138.1 release"
   ]
  },
  {
   "cell_type": "code",
   "execution_count": null,
   "metadata": {},
   "outputs": [],
   "source": [
    "#!/bin/bash\n",
    "\n",
    "# load\n",
    "module load miniconda3\n",
    "conda activate qiime2-2022.8\n",
    "\n",
    "# running on mrca\n",
    "\n",
    "QIIME_DIR=\"/srv/projects/microbial_inducers/analysis/qiime2_16S/04_taxonomic_analysis\"\n",
    "SEQ_DIR=\"/srv/projects/microbial_inducers/analysis/qiime2_16S/02_get_ASVs\"\n",
    "\n",
    "#note: --p-min-length, --p-max-length are based on rep-seqs.qzv file\n",
    "# qiime recommends not to truncate for paired reads due to the variable lengths\n",
    "\n",
    "# extract reads from DB\n",
    "qiime feature-classifier extract-reads \\\n",
    "  --i-sequences $QIIME_DIR/silva-138-99-full-trained-seqs.qza \\\n",
    "  --p-f-primer GTGYCAGCMGCCGCGGTAA \\\n",
    "  --p-r-primer GGACTACNVGGGTWTCTAAT \\\n",
    "#  --p-trunc-len \\\n",
    "  --p-min-length 235 \\\n",
    "  --p-max-length 426 \\\n",
    "  --o-reads $QIIME_DIR/ref-seqs.qza\n",
    "\n",
    "# train the classifier\n",
    "qiime feature-classifier fit-classifier-naive-bayes \\\n",
    "  --i-reference-reads $QIIME_DIR/ref-seqs.qza \\\n",
    "  --i-reference-taxonomy $QIIME_DIR/silva-138-99-full-trained-tax.qza \\\n",
    "  --o-classifier $QIIME_DIR/classifier.qza\n",
    "\n",
    "# run classifier\n",
    "qiime feature-classifier classify-sklearn \\\n",
    "  --i-classifier $QIIME_DIR/classifier.qza \\\n",
    "  --i-reads $SEQ_DIR/rep-seqs-dada2.qza \\\n",
    "  --o-classification $QIIME_DIR/taxonomy.qza\n",
    "\n",
    "# summarise results\n",
    "qiime metadata tabulate \\\n",
    "  --m-input-file $QIIME_DIR/taxonomy.qza \\\n",
    "  --o-visualization $QIIME_DIR/taxonomy.qzv\n",
    "  \n",
    "# plot taxa as bar plot\n",
    "qiime taxa barplot \\\n",
    "  --i-table $SEQ_DIR/table-dada2.qza \\\n",
    "  --i-taxonomy $QIIME_DIR/taxonomy.qza \\\n",
    "  --m-metadata-file $QIIME_DIR/../01_import/metadata.tsv \\\n",
    "  --o-visualization $QIIME_DIR/taxa-bar-plots.qzv\n",
    "\n",
    "conda deactivate"
   ]
  },
  {
   "cell_type": "markdown",
   "metadata": {},
   "source": [
    "#### Plot taxa"
   ]
  },
  {
   "cell_type": "code",
   "execution_count": null,
   "metadata": {},
   "outputs": [],
   "source": [
    "#!/bin/bash\n",
    "\n",
    "# load\n",
    "module load miniconda3\n",
    "conda activate qiime2-2022.8\n",
    "\n",
    "# running on mrca\n",
    "\n",
    "QIIME_DIR=\"/srv/projects/microbial_inducers/analysis/qiime2_16S/04_taxonomic_analysis\"\n",
    "\n",
    "# plot taxa as bar plot\n",
    "qiime taxa barplot \\\n",
    "  --i-table $QIIME_DIR/02_get_ASV/table-dada2.qza \\\n",
    "  --i-taxonomy $QIIME_DIR/taxonomy.qza/taxonomy.qza \\\n",
    "  --m-metadata-file $QIIME_DIR/01_impor/metadata.tsv \\\n",
    "  --o-visualization taxa-bar-plots.qzv\n",
    "\n",
    "conda deactivate\n"
   ]
  },
  {
   "cell_type": "markdown",
   "metadata": {},
   "source": [
    "# Export data for downstream analysis"
   ]
  },
  {
   "cell_type": "code",
   "execution_count": null,
   "metadata": {},
   "outputs": [],
   "source": [
    "#!/bin/bash\n",
    "\n",
    "# load\n",
    "module load miniconda3\n",
    "conda activate qiime2-2022.8\n",
    "\n",
    "QIIME_DIR=\"/srv/projects/microbial_inducers/analysis/qiime2_16S/\"\n",
    "\n",
    "qiime tools export \\\n",
    "    --input-path $QIIME_DIR/02_get_ASVs/table-dada2.qza  \\\n",
    "    --output-path $QIIME_DIR/05_exported_files/table-dada2\n",
    "qiime tools export \\\n",
    "    --input-path $QIIME_DIR/02_get_ASVs/rep-seqs-dada2.qza \\\n",
    "    --output-path $QIIME_DIR/05_exported_files/rep-seqs\n",
    "qiime tools export \\\n",
    "    --input-path $QIIME_DIR/03_phylogeny_and_diversity/rooted-tree.qza  \\\n",
    "    --output-path $QIIME_DIR/05_exported_files/rooted-tree\n",
    "qiime tools export \\\n",
    "    --input-path $QIIME_DIR/03_phylogeny_and_diversity/unrooted-tree.qza  \\\n",
    "    --output-path $QIIME_DIR/05_exported_files/unrooted-tree\n",
    "qiime tools export \\\n",
    "    --input-path $QIIME_DIR/04_taxonomic_analysis/taxonomy.qza  \\\n",
    "    --output-path $QIIME_DIR/05_exported_files/taxonomy\n",
    "\n",
    "conda deactivate\n",
    "\n",
    "# to convert biom tsv file (feature table)\n",
    "biom convert \\\n",
    "-i $QIIME_DIR/05_exported_files/table-dada2/feature-table.biom \\\n",
    "-o $QIIME_DIR/05_exported_files/table-dada2/feature-table.tsv \\\n",
    "--to-tsv\n"
   ]
  }
 ],
 "metadata": {
  "kernelspec": {
   "display_name": "Bash",
   "language": "bash",
   "name": "bash"
  },
  "language_info": {
   "codemirror_mode": "shell",
   "file_extension": ".sh",
   "mimetype": "text/x-sh",
   "name": "bash"
  }
 },
 "nbformat": 4,
 "nbformat_minor": 4
}
